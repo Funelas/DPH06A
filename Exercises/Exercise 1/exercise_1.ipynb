{
 "cells": [
  {
   "cell_type": "markdown",
   "metadata": {},
   "source": [
    "### **E-commerce Analysis with Markdown**\n",
    "This is a simple data exploration exercise using just markdown. \n",
    "\n",
    "Imagine you have a dataset containing information about online store orders. Let's explore some trends!\n",
    "\n",
    "**Table:**\n",
    "\n",
    "| order_id  | customer_id | order_date  | order_value ($)   | product_category |\n",
    "|-----------|-------------|-------------|-------------------|------------------|\n",
    "| 001       | 23          | 02/04/2024  | 200               | Food             |\n",
    "| 002       | 25          | 02/06/2024  | 300               | Electronics      |\n",
    "| 003       | 23          | 02/10/2024  | 1000              | Healthcare       |\n",
    "| 004       | 18          | 02/18/2024  | 800               | Clothing         |\n",
    "| 005       | 21          | 03/01/2024  | 3000              | Food             |\n",
    "| 006       | 05          | 03/03/2024  | 500               | Healthcare       |\n",
    "| 007       | 29          | 03/04/2024  | 600               | Food             |\n",
    "| 008       | 10          | 03/08/2024  | 5000              | Electronics      |\n",
    "| 009       | 22          | 03/12/2024  | 400               | Healthcare       |\n",
    "| 010       | 05          | 03/15/2024  | 1200              | Clothing         |\n",
    "| 011       | 19          | 03/18/2024  | 500               | Food             |\n",
    "| 012       | 05          | 03/26/2024  | 600               | Healthcare       |\n",
    "\n",
    "**Columns:**\n",
    "\n",
    "- **order_id**: Unique identifier for the order (text).\n",
    "- **customer_id**: Unique identifier for the customer (text).\n",
    "- **order_date**: Date of the order (text, format MM/DD/YYYY).\n",
    "- **order_value**: Total value of the order (number).\n",
    "- **product_category**: Category of the main product purchased (text).\n",
    "\n",
    "**Tasks:**\n",
    "\n",
    "1. Describe the Data:\n",
    "\n",
    "- How many orders are there in total?\n",
    "- What are some summary statistics for the order_value (e.g., mean, median, minimum, maximum)?\n",
    "\n",
    "2. Explore Trends:\n",
    "\n",
    "- Are there any differences in average order value by product_category?\n",
    "\n",
    "**How to Solve:**\n",
    "\n",
    "- While you cannot perform calculations directly in markdown, you can use it to structure your analysis.\n",
    "\n",
    "1. Descriptive Statistics:\n",
    "\n",
    "    - Use markdown headings and text to explain what you're analyzing (e.g., \"Total Orders\").\n",
    "    - Get the results of your calculations and write them down (e.g., \"Total Orders: 1000\").\n",
    "\n",
    "2. Category Comparison:\n",
    "\n",
    "    - Create a table with headers \"Product Category\" and \"Average Order Value\".\n",
    "    - Fill the table with the average values of each category (e.g., \"Electronics: $ 250\").\n",
    "\n",
    "Remember:\n",
    "This is a simplified exercise. Real data analysis would involve data cleaning, visualization, and further exploration."
   ]
  },
  {
   "cell_type": "markdown",
   "metadata": {},
   "source": [
    "# Descriptive Statistics\n",
    "## Orders Information\n",
    "\n",
    "\n",
    "##### Sum of Order Value For Each Product Category\n",
    "| Product Category| Sum|\n",
    "| --------------------------------|-|\n",
    "| Clothing | 2000 |\n",
    "| Electronics | 5300 |\n",
    "| Food | 4300 |\n",
    "| Healthcare | 2500 |\n",
    "\n",
    "\n",
    "##### Count of Order Per Product Category\n",
    "| Product Category| Count|\n",
    "| --------------------------------|-|\n",
    "| Clothing | 2 |\n",
    "| Electronics | 2 |\n",
    "| Food | 4 |\n",
    "| Healthcare | 4 |\n",
    "\n",
    "##### Sum of all Order Values\n",
    "| Sum of all values |\n",
    "|-|\n",
    "| 14100 |\n",
    "\n",
    "##### Least Worth of Order Value Sum\n",
    "\n",
    "| Category | Sum |\n",
    "|- | - |\n",
    "| Clothing | 2000 |\n",
    "\n",
    "##### Highest Worth of Order Value Sum\n",
    "\n",
    "| Category | Sum |\n",
    "|- | - |\n",
    "| Electronics | 5300 |\n",
    "\n",
    "\n",
    "##### Average order values \n",
    "| Average of all order values |\n",
    "|-|\n",
    "| 1175 |\n",
    "\n",
    "##### Median order values \n",
    "| Median of all order values |\n",
    "|-|\n",
    "| 600 |\n",
    "\n",
    "##### Information about the minimum order value\n",
    "|order_id\t|customer_id\t|order_date|\torder_value|\tproduct_category|\tMIN(order_value)|\n",
    "|-|-|-|-|-|-|\n",
    "|001|\t23\t|02/04/2024\t|200\t|Food\t|200|\n",
    "\n",
    "##### Information about the maximum order value\n",
    "|order_id\t|customer_id\t|order_date|\torder_value|\tproduct_category|\tMAX(order_value)|\n",
    "|-|-|-|-|-|-|\n",
    "|008|\t10\t|03/08/2024\t|5000\t|Electronics\t|5000|\n"
   ]
  },
  {
   "cell_type": "code",
   "execution_count": 1,
   "metadata": {},
   "outputs": [],
   "source": [
    "%load_ext sql"
   ]
  },
  {
   "cell_type": "code",
   "execution_count": 2,
   "metadata": {},
   "outputs": [],
   "source": [
    "%sql sqlite:///exercise_1.db"
   ]
  },
  {
   "cell_type": "code",
   "execution_count": 3,
   "metadata": {},
   "outputs": [
    {
     "name": "stdout",
     "output_type": "stream",
     "text": [
      " * sqlite:///exercise_1.db\n",
      "Done.\n"
     ]
    },
    {
     "data": {
      "text/plain": [
       "[]"
      ]
     },
     "execution_count": 3,
     "metadata": {},
     "output_type": "execute_result"
    }
   ],
   "source": [
    "%%sql\n",
    "CREATE TABLE IF NOT EXISTS commerce(\n",
    "    order_id TEXT NOT NULL,\n",
    "    customer_id TEXT NOT NULL,\n",
    "    order_date TEXT NOT NULL,\n",
    "    order_value NUMBER NOT NULL,\n",
    "    product_category TEXT NOT NULL\n",
    ");"
   ]
  },
  {
   "cell_type": "code",
   "execution_count": 4,
   "metadata": {},
   "outputs": [
    {
     "name": "stdout",
     "output_type": "stream",
     "text": [
      " * sqlite:///exercise_1.db\n",
      "12 rows affected.\n"
     ]
    },
    {
     "data": {
      "text/plain": [
       "[]"
      ]
     },
     "execution_count": 4,
     "metadata": {},
     "output_type": "execute_result"
    }
   ],
   "source": [
    "%%sql\n",
    "INSERT INTO commerce (order_id, customer_id, order_date, order_value, product_category)\n",
    "VALUES \n",
    "    ('001','23','02/04/2024',200, 'Food'),\n",
    "    ('002','25','02/06/2024',300,'Electronics'),\n",
    "    ('003','23','02/10/2024',1000,'Healthcare'),\n",
    "    ('004','18','02/18/2024',800,'Clothing'),\n",
    "    ('005','21','03/01/2024',3000,'Food'),\n",
    "    ('006','05','03/03/2024',500,'Healthcare'),\n",
    "    ('007','29','03/04/2024',600,'Food'),\n",
    "    ('008','10','03/08/2024',5000,'Electronics'),\n",
    "    ('009','22','03/12/2024',400,'Healthcare'),\n",
    "    ('010','05','03/15/2024',1200,'Clothing'),\n",
    "    ('011','19','03/18/2024',500,'Food'),\n",
    "    ('012','05','03/26/2024',600, 'Healthcare');"
   ]
  },
  {
   "cell_type": "code",
   "execution_count": 5,
   "metadata": {},
   "outputs": [
    {
     "name": "stdout",
     "output_type": "stream",
     "text": [
      " * sqlite:///exercise_1.db\n",
      "Done.\n"
     ]
    },
    {
     "data": {
      "text/html": [
       "<table>\n",
       "    <thead>\n",
       "        <tr>\n",
       "            <th>(SUM(order_value))</th>\n",
       "        </tr>\n",
       "    </thead>\n",
       "    <tbody>\n",
       "        <tr>\n",
       "            <td>14100</td>\n",
       "        </tr>\n",
       "    </tbody>\n",
       "</table>"
      ],
      "text/plain": [
       "[(14100,)]"
      ]
     },
     "execution_count": 5,
     "metadata": {},
     "output_type": "execute_result"
    }
   ],
   "source": [
    "%%sql\n",
    "SELECT (SUM(order_value))\n",
    "FROM commerce"
   ]
  },
  {
   "cell_type": "code",
   "execution_count": 18,
   "metadata": {},
   "outputs": [
    {
     "name": "stdout",
     "output_type": "stream",
     "text": [
      " * sqlite:///exercise_1.db\n",
      "Done.\n"
     ]
    },
    {
     "data": {
      "text/html": [
       "<table>\n",
       "    <thead>\n",
       "        <tr>\n",
       "            <th>product_category</th>\n",
       "            <th>order_value_per_product</th>\n",
       "        </tr>\n",
       "    </thead>\n",
       "    <tbody>\n",
       "        <tr>\n",
       "            <td>Electronics</td>\n",
       "            <td>5300</td>\n",
       "        </tr>\n",
       "    </tbody>\n",
       "</table>"
      ],
      "text/plain": [
       "[('Electronics', 5300)]"
      ]
     },
     "execution_count": 18,
     "metadata": {},
     "output_type": "execute_result"
    }
   ],
   "source": [
    "%%sql \n",
    "SELECT product_category, SUM(order_value) AS order_value_per_product\n",
    "FROM commerce\n",
    "GROUP BY product_category\n",
    "ORDER BY order_value_per_product DESC\n",
    "LIMIT 1"
   ]
  },
  {
   "cell_type": "code",
   "execution_count": 19,
   "metadata": {},
   "outputs": [
    {
     "name": "stdout",
     "output_type": "stream",
     "text": [
      " * sqlite:///exercise_1.db\n",
      "Done.\n"
     ]
    },
    {
     "data": {
      "text/html": [
       "<table>\n",
       "    <thead>\n",
       "        <tr>\n",
       "            <th>product_category</th>\n",
       "            <th>order_value_per_product</th>\n",
       "        </tr>\n",
       "    </thead>\n",
       "    <tbody>\n",
       "        <tr>\n",
       "            <td>Clothing</td>\n",
       "            <td>2000</td>\n",
       "        </tr>\n",
       "    </tbody>\n",
       "</table>"
      ],
      "text/plain": [
       "[('Clothing', 2000)]"
      ]
     },
     "execution_count": 19,
     "metadata": {},
     "output_type": "execute_result"
    }
   ],
   "source": [
    "%%sql \n",
    "SELECT product_category, SUM(order_value) AS order_value_per_product\n",
    "FROM commerce\n",
    "GROUP BY product_category\n",
    "ORDER BY order_value_per_product ASC\n",
    "LIMIT 1"
   ]
  },
  {
   "cell_type": "code",
   "execution_count": 7,
   "metadata": {},
   "outputs": [
    {
     "name": "stdout",
     "output_type": "stream",
     "text": [
      " * sqlite:///exercise_1.db\n",
      "Done.\n"
     ]
    },
    {
     "data": {
      "text/html": [
       "<table>\n",
       "    <thead>\n",
       "        <tr>\n",
       "            <th>product_category</th>\n",
       "            <th>order_value_per_product</th>\n",
       "        </tr>\n",
       "    </thead>\n",
       "    <tbody>\n",
       "        <tr>\n",
       "            <td>Clothing</td>\n",
       "            <td>2000</td>\n",
       "        </tr>\n",
       "        <tr>\n",
       "            <td>Electronics</td>\n",
       "            <td>5300</td>\n",
       "        </tr>\n",
       "        <tr>\n",
       "            <td>Food</td>\n",
       "            <td>4300</td>\n",
       "        </tr>\n",
       "        <tr>\n",
       "            <td>Healthcare</td>\n",
       "            <td>2500</td>\n",
       "        </tr>\n",
       "    </tbody>\n",
       "</table>"
      ],
      "text/plain": [
       "[('Clothing', 2000),\n",
       " ('Electronics', 5300),\n",
       " ('Food', 4300),\n",
       " ('Healthcare', 2500)]"
      ]
     },
     "execution_count": 7,
     "metadata": {},
     "output_type": "execute_result"
    }
   ],
   "source": [
    "%%sql\n",
    "SELECT  product_category, (SUM(order_value)) as order_value_per_product\n",
    "FROM commerce\n",
    "GROUP BY product_category"
   ]
  },
  {
   "cell_type": "code",
   "execution_count": 8,
   "metadata": {},
   "outputs": [
    {
     "name": "stdout",
     "output_type": "stream",
     "text": [
      " * sqlite:///exercise_1.db\n",
      "Done.\n"
     ]
    },
    {
     "data": {
      "text/html": [
       "<table>\n",
       "    <thead>\n",
       "        <tr>\n",
       "            <th>product_category</th>\n",
       "            <th>count_of_orders</th>\n",
       "        </tr>\n",
       "    </thead>\n",
       "    <tbody>\n",
       "        <tr>\n",
       "            <td>Clothing</td>\n",
       "            <td>2</td>\n",
       "        </tr>\n",
       "        <tr>\n",
       "            <td>Electronics</td>\n",
       "            <td>2</td>\n",
       "        </tr>\n",
       "        <tr>\n",
       "            <td>Food</td>\n",
       "            <td>4</td>\n",
       "        </tr>\n",
       "        <tr>\n",
       "            <td>Healthcare</td>\n",
       "            <td>4</td>\n",
       "        </tr>\n",
       "    </tbody>\n",
       "</table>"
      ],
      "text/plain": [
       "[('Clothing', 2), ('Electronics', 2), ('Food', 4), ('Healthcare', 4)]"
      ]
     },
     "execution_count": 8,
     "metadata": {},
     "output_type": "execute_result"
    }
   ],
   "source": [
    "%%sql\n",
    "SELECT product_category, COUNT(product_category) AS count_of_orders\n",
    "FROM commerce\n",
    "GROUP BY product_category"
   ]
  },
  {
   "cell_type": "code",
   "execution_count": 9,
   "metadata": {},
   "outputs": [
    {
     "name": "stdout",
     "output_type": "stream",
     "text": [
      " * sqlite:///exercise_1.db\n",
      "Done.\n"
     ]
    },
    {
     "data": {
      "text/html": [
       "<table>\n",
       "    <thead>\n",
       "        <tr>\n",
       "            <th>AVG(order_value)</th>\n",
       "        </tr>\n",
       "    </thead>\n",
       "    <tbody>\n",
       "        <tr>\n",
       "            <td>1175.0</td>\n",
       "        </tr>\n",
       "    </tbody>\n",
       "</table>"
      ],
      "text/plain": [
       "[(1175.0,)]"
      ]
     },
     "execution_count": 9,
     "metadata": {},
     "output_type": "execute_result"
    }
   ],
   "source": [
    "%%sql\n",
    "SELECT AVG(order_value)\n",
    "FROM commerce"
   ]
  },
  {
   "cell_type": "code",
   "execution_count": 10,
   "metadata": {},
   "outputs": [
    {
     "name": "stdout",
     "output_type": "stream",
     "text": [
      " * sqlite:///exercise_1.db\n",
      "Done.\n"
     ]
    },
    {
     "data": {
      "text/html": [
       "<table>\n",
       "    <thead>\n",
       "        <tr>\n",
       "            <th>Median</th>\n",
       "        </tr>\n",
       "    </thead>\n",
       "    <tbody>\n",
       "        <tr>\n",
       "            <td>600</td>\n",
       "        </tr>\n",
       "    </tbody>\n",
       "</table>"
      ],
      "text/plain": [
       "[(600,)]"
      ]
     },
     "execution_count": 10,
     "metadata": {},
     "output_type": "execute_result"
    }
   ],
   "source": [
    "%%sql \n",
    "WITH ranked_order_value AS (\n",
    "    SELECT order_value, \n",
    "           ROW_NUMBER() OVER (ORDER BY order_value ASC) AS row_asc,\n",
    "           COUNT (*) OVER () AS total_count\n",
    "    FROM commerce\n",
    ")\n",
    "SELECT \n",
    "    CASE WHEN total_count / 2.0 LIKE '%.5' THEN (SELECT AVG(order_value) FROM ranked_order_value WHERE row_asc >= FLOOR(total_count /2.0) AND row_asc < FLOOR((total_count / 2.0) + 2)) \n",
    "        ELSE (SELECT order_value FROM ranked_order_value WHERE row_asc = (total_count / 2)) \n",
    "    END AS Median\n",
    "FROM ranked_order_value\n",
    "LIMIT 1\n",
    "\n"
   ]
  },
  {
   "cell_type": "code",
   "execution_count": 11,
   "metadata": {},
   "outputs": [
    {
     "name": "stdout",
     "output_type": "stream",
     "text": [
      " * sqlite:///exercise_1.db\n",
      "Done.\n"
     ]
    },
    {
     "data": {
      "text/html": [
       "<table>\n",
       "    <thead>\n",
       "        <tr>\n",
       "            <th>order_id</th>\n",
       "            <th>customer_id</th>\n",
       "            <th>order_date</th>\n",
       "            <th>order_value</th>\n",
       "            <th>product_category</th>\n",
       "        </tr>\n",
       "    </thead>\n",
       "    <tbody>\n",
       "        <tr>\n",
       "            <td>001</td>\n",
       "            <td>23</td>\n",
       "            <td>02/04/2024</td>\n",
       "            <td>200</td>\n",
       "            <td>Food</td>\n",
       "        </tr>\n",
       "        <tr>\n",
       "            <td>002</td>\n",
       "            <td>25</td>\n",
       "            <td>02/06/2024</td>\n",
       "            <td>300</td>\n",
       "            <td>Electronics</td>\n",
       "        </tr>\n",
       "        <tr>\n",
       "            <td>009</td>\n",
       "            <td>22</td>\n",
       "            <td>03/12/2024</td>\n",
       "            <td>400</td>\n",
       "            <td>Healthcare</td>\n",
       "        </tr>\n",
       "        <tr>\n",
       "            <td>006</td>\n",
       "            <td>05</td>\n",
       "            <td>03/03/2024</td>\n",
       "            <td>500</td>\n",
       "            <td>Healthcare</td>\n",
       "        </tr>\n",
       "        <tr>\n",
       "            <td>011</td>\n",
       "            <td>19</td>\n",
       "            <td>03/18/2024</td>\n",
       "            <td>500</td>\n",
       "            <td>Food</td>\n",
       "        </tr>\n",
       "        <tr>\n",
       "            <td>007</td>\n",
       "            <td>29</td>\n",
       "            <td>03/04/2024</td>\n",
       "            <td>600</td>\n",
       "            <td>Food</td>\n",
       "        </tr>\n",
       "        <tr>\n",
       "            <td>012</td>\n",
       "            <td>05</td>\n",
       "            <td>03/26/2024</td>\n",
       "            <td>600</td>\n",
       "            <td>Healthcare</td>\n",
       "        </tr>\n",
       "        <tr>\n",
       "            <td>004</td>\n",
       "            <td>18</td>\n",
       "            <td>02/18/2024</td>\n",
       "            <td>800</td>\n",
       "            <td>Clothing</td>\n",
       "        </tr>\n",
       "        <tr>\n",
       "            <td>003</td>\n",
       "            <td>23</td>\n",
       "            <td>02/10/2024</td>\n",
       "            <td>1000</td>\n",
       "            <td>Healthcare</td>\n",
       "        </tr>\n",
       "        <tr>\n",
       "            <td>010</td>\n",
       "            <td>05</td>\n",
       "            <td>03/15/2024</td>\n",
       "            <td>1200</td>\n",
       "            <td>Clothing</td>\n",
       "        </tr>\n",
       "        <tr>\n",
       "            <td>005</td>\n",
       "            <td>21</td>\n",
       "            <td>03/01/2024</td>\n",
       "            <td>3000</td>\n",
       "            <td>Food</td>\n",
       "        </tr>\n",
       "        <tr>\n",
       "            <td>008</td>\n",
       "            <td>10</td>\n",
       "            <td>03/08/2024</td>\n",
       "            <td>5000</td>\n",
       "            <td>Electronics</td>\n",
       "        </tr>\n",
       "    </tbody>\n",
       "</table>"
      ],
      "text/plain": [
       "[('001', '23', '02/04/2024', 200, 'Food'),\n",
       " ('002', '25', '02/06/2024', 300, 'Electronics'),\n",
       " ('009', '22', '03/12/2024', 400, 'Healthcare'),\n",
       " ('006', '05', '03/03/2024', 500, 'Healthcare'),\n",
       " ('011', '19', '03/18/2024', 500, 'Food'),\n",
       " ('007', '29', '03/04/2024', 600, 'Food'),\n",
       " ('012', '05', '03/26/2024', 600, 'Healthcare'),\n",
       " ('004', '18', '02/18/2024', 800, 'Clothing'),\n",
       " ('003', '23', '02/10/2024', 1000, 'Healthcare'),\n",
       " ('010', '05', '03/15/2024', 1200, 'Clothing'),\n",
       " ('005', '21', '03/01/2024', 3000, 'Food'),\n",
       " ('008', '10', '03/08/2024', 5000, 'Electronics')]"
      ]
     },
     "execution_count": 11,
     "metadata": {},
     "output_type": "execute_result"
    }
   ],
   "source": [
    "%%sql \n",
    "SELECT *\n",
    "FROM commerce\n",
    "ORDER BY order_value ASC"
   ]
  },
  {
   "cell_type": "code",
   "execution_count": 12,
   "metadata": {},
   "outputs": [
    {
     "name": "stdout",
     "output_type": "stream",
     "text": [
      " * sqlite:///exercise_1.db\n",
      "Done.\n"
     ]
    },
    {
     "data": {
      "text/html": [
       "<table>\n",
       "    <thead>\n",
       "        <tr>\n",
       "            <th>order_id</th>\n",
       "            <th>customer_id</th>\n",
       "            <th>order_date</th>\n",
       "            <th>order_value</th>\n",
       "            <th>product_category</th>\n",
       "            <th>MIN(order_value)</th>\n",
       "        </tr>\n",
       "    </thead>\n",
       "    <tbody>\n",
       "        <tr>\n",
       "            <td>001</td>\n",
       "            <td>23</td>\n",
       "            <td>02/04/2024</td>\n",
       "            <td>200</td>\n",
       "            <td>Food</td>\n",
       "            <td>200</td>\n",
       "        </tr>\n",
       "    </tbody>\n",
       "</table>"
      ],
      "text/plain": [
       "[('001', '23', '02/04/2024', 200, 'Food', 200)]"
      ]
     },
     "execution_count": 12,
     "metadata": {},
     "output_type": "execute_result"
    }
   ],
   "source": [
    "%%sql \n",
    "SELECT *, MIN(order_value)\n",
    "FROM commerce"
   ]
  },
  {
   "cell_type": "code",
   "execution_count": 13,
   "metadata": {},
   "outputs": [
    {
     "name": "stdout",
     "output_type": "stream",
     "text": [
      " * sqlite:///exercise_1.db\n",
      "Done.\n"
     ]
    },
    {
     "data": {
      "text/html": [
       "<table>\n",
       "    <thead>\n",
       "        <tr>\n",
       "            <th>order_id</th>\n",
       "            <th>customer_id</th>\n",
       "            <th>order_date</th>\n",
       "            <th>order_value</th>\n",
       "            <th>product_category</th>\n",
       "            <th>MAX(order_value)</th>\n",
       "        </tr>\n",
       "    </thead>\n",
       "    <tbody>\n",
       "        <tr>\n",
       "            <td>008</td>\n",
       "            <td>10</td>\n",
       "            <td>03/08/2024</td>\n",
       "            <td>5000</td>\n",
       "            <td>Electronics</td>\n",
       "            <td>5000</td>\n",
       "        </tr>\n",
       "    </tbody>\n",
       "</table>"
      ],
      "text/plain": [
       "[('008', '10', '03/08/2024', 5000, 'Electronics', 5000)]"
      ]
     },
     "execution_count": 13,
     "metadata": {},
     "output_type": "execute_result"
    }
   ],
   "source": [
    "%%sql \n",
    "SELECT *, MAX(order_value)\n",
    "FROM commerce"
   ]
  },
  {
   "cell_type": "markdown",
   "metadata": {},
   "source": [
    "# Category Comparison:\n",
    "| Product Category | Average Order Value |\n",
    "| - | - |\n",
    "|Clothing\t|$ 1000.0|\n",
    "|Electronics\t|$ 2650.0|\n",
    "|Food\t|$ 1075.0|\n",
    "|Healthcare\t|$ 625.0|\n"
   ]
  },
  {
   "cell_type": "code",
   "execution_count": 14,
   "metadata": {},
   "outputs": [
    {
     "name": "stdout",
     "output_type": "stream",
     "text": [
      " * sqlite:///exercise_1.db\n",
      "Done.\n"
     ]
    },
    {
     "data": {
      "text/html": [
       "<table>\n",
       "    <thead>\n",
       "        <tr>\n",
       "            <th>Product Category</th>\n",
       "            <th>Average Order Value</th>\n",
       "        </tr>\n",
       "    </thead>\n",
       "    <tbody>\n",
       "        <tr>\n",
       "            <td>Clothing</td>\n",
       "            <td>$ 1000.0</td>\n",
       "        </tr>\n",
       "        <tr>\n",
       "            <td>Electronics</td>\n",
       "            <td>$ 2650.0</td>\n",
       "        </tr>\n",
       "        <tr>\n",
       "            <td>Food</td>\n",
       "            <td>$ 1075.0</td>\n",
       "        </tr>\n",
       "        <tr>\n",
       "            <td>Healthcare</td>\n",
       "            <td>$ 625.0</td>\n",
       "        </tr>\n",
       "    </tbody>\n",
       "</table>"
      ],
      "text/plain": [
       "[('Clothing', '$ 1000.0'),\n",
       " ('Electronics', '$ 2650.0'),\n",
       " ('Food', '$ 1075.0'),\n",
       " ('Healthcare', '$ 625.0')]"
      ]
     },
     "execution_count": 14,
     "metadata": {},
     "output_type": "execute_result"
    }
   ],
   "source": [
    "%%sql\n",
    "SELECT product_category as 'Product Category', \"$ \" || printf(AVG(order_value)) as 'Average Order Value'\n",
    "FROM commerce\n",
    "GROUP BY product_category"
   ]
  },
  {
   "cell_type": "markdown",
   "metadata": {},
   "source": [
    "\n",
    "## **SALES REPORT - COMPANY XYZ**\n",
    "\n",
    "### Order Results\n",
    "We have here the data of the online orders from the store this past few weeks, shown on Table 1. \n",
    "\n",
    "We have a total of **$ 14,100** Order Value for the recorded sales. \n",
    "\n",
    "### **Table 1:**\n",
    "\n",
    "   | order_id  | customer_id | order_date  | order_value ($) | product_category |\n",
    "   |-----------|-------------|-------------|-------------------|------------------|\n",
    "   | 001       | 23          | 02/04/2024  | 200               | Food             |\n",
    "   | 002       | 25          | 02/06/2024  | 300               | Electronics      |\n",
    "   | 003       | 23          | 02/10/2024  | 1000              | Healthcare       |\n",
    "   | 004       | 18          | 02/18/2024  | 800               | Clothing         |\n",
    "   | 005       | 21          | 03/01/2024  | 3000              | Food             |\n",
    "   | 006       | 05          | 03/03/2024  | 500               | Healthcare       |\n",
    "   | 007       | 29          | 03/04/2024  | 600               | Food             |\n",
    "   | 008       | 10          | 03/08/2024  | 5000              | Electronics      |\n",
    "   | 009       | 22          | 03/12/2024  | 400               | Healthcare       |\n",
    "   | 010       | 05          | 03/15/2024  | 1200              | Clothing         |\n",
    "   | 011       | 19          | 03/18/2024  | 500               | Food             |\n",
    "   | 012       | 05          | 03/26/2024  | 600               | Healthcare       |\n",
    "\n",
    "#### Table 2 shows the _Product Category_  and the _Average_ customer has purchased to us:\n",
    "\n",
    "### **Table 2:**\n",
    "\n",
    "    \n",
    "   | product_category | order_value ($) | Average order_value ($)  | \n",
    "   |------------------|-------------------|----------------------------|\n",
    "   | Food             | 4300              | 1075                       | \n",
    "   | Electronics      | 5300              | 2650                       | \n",
    "   | Healthcare       | 2500              |  625                       | \n",
    "   | Clothing         | 2000              | 1000                       | \n",
    "   |    Total         |    14000          |                            | \n",
    "\n",
    "#### In Table 3 we arrived at this Statistical Data, based on the table above:\n",
    "\n",
    "### **Table 3:**\n",
    "\n",
    "    \n",
    "   | Statistical Order_value | Value ($)   | product_category  | \n",
    "   |-------------------------|-------------|-------------------|\n",
    "   | Mean                    | 1175        |                   | \n",
    "   | Median                  | 600         |                   | \n",
    "   | Minimum                 | 200         |  Food             | \n",
    "   | Maximum                 | 5000        | Electronics       | \n",
    "   \n",
    "## (Hypothetical Insights)\n",
    "1. Customers prefer buying Electronics than other items. This may be due to natural phenomena such as weather and convenience.\n",
    "2. Since food, clothing, and healthcare are basic necessities for our customers, we must ensure an adequate supply of these items.\n"
   ]
  },
  {
   "cell_type": "markdown",
   "metadata": {},
   "source": [
    "# Exercise: Formatting Data into Markdown Tables\n",
    "Objective:\n",
    "You will be given a dataset in CSV format. Your task is to convert this dataset into a Markdown table format.\n",
    "\n",
    "Instructions:\n",
    "\n",
    "**1. Convert the Dataset:** Convert the provided dataset into a Markdown table format.\n",
    "\n",
    "**2. Use Markdown Syntax:** Make sure to use proper Markdown table syntax to format the table.\n",
    "\n",
    "**3. Ensure Readability:** Ensure that the table is properly aligned and readable.\n",
    "\n",
    "__ID,Name,Age,Department,Salary__\n",
    "\n",
    "- 1,John Doe,28,Marketing,50000\n",
    "\n",
    "- 2,Jane Smith,34,Sales,55000\n",
    "\n",
    "- 3,Emily Davis,29,Engineering,60000\n",
    "\n",
    "- 4,Michael Brown,42,HR,52000\n",
    "\n",
    "- 5,Alice Johnson,31,Finance,58000\n",
    "\n",
    "- 6,Robert White,37,IT,62000\n",
    "\n",
    "- 7,Jessica Lee,26,Marketing,51000\n",
    "\n",
    "- 8,David Wilson,45,Sales,57000\n",
    "\n",
    "- 9,Linda Clark,38,Engineering,61000\n",
    "\n",
    "- 10,James Lewis,33,Finance,59000"
   ]
  },
  {
   "cell_type": "markdown",
   "metadata": {},
   "source": [
    "|ID|Name|Age|Department|Salary|\n",
    "|-|-|-|-|-|\n",
    "|1|John Doe|28|Marketing|50000|\n",
    "|2|Jane Smith|34|Sales|55000|\n",
    "|3|Emily Davis|29|Engineering|60000|\n",
    "|4|Michael Brown|42|HR|52000|\n",
    "|5|Alice Johnson|31|Finance|58000|\n",
    "|6|Robert White|37|IT|62000|\n",
    "|7|Jessica Lee|26|Marketing|51000|\n",
    "|8|David Wilson|45|Sales|57000|\n",
    "|9|Linda Clark|38|Engineering|61000|\n",
    "|10|James Lewis|33|Finance|59000|"
   ]
  }
 ],
 "metadata": {
  "kernelspec": {
   "display_name": "Python 3",
   "language": "python",
   "name": "python3"
  },
  "language_info": {
   "codemirror_mode": {
    "name": "ipython",
    "version": 3
   },
   "file_extension": ".py",
   "mimetype": "text/x-python",
   "name": "python",
   "nbconvert_exporter": "python",
   "pygments_lexer": "ipython3",
   "version": "3.12.2"
  }
 },
 "nbformat": 4,
 "nbformat_minor": 2
}
